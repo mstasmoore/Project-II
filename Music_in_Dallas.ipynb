{
 "cells": [
  {
   "cell_type": "code",
   "execution_count": 48,
   "metadata": {},
   "outputs": [],
   "source": [
    "# Dependencies\n",
    "from bs4 import BeautifulSoup\n",
    "import requests\n",
    "import pandas as pd\n",
    "from sqlalchemy import create_engine"
   ]
  },
  {
   "cell_type": "code",
   "execution_count": 49,
   "metadata": {},
   "outputs": [],
   "source": [
    "# URL of page to be scraped\n",
    "url = 'https://dallasdiscjockeys.com/best-songs-of-2020'\n",
    "\n",
    "# Retrieve page with the requests module\n",
    "response = requests.get(url)\n",
    "# Create BeautifulSoup object; parse with 'html.parser'\n",
    "soup = BeautifulSoup(response.text, 'html.parser')"
   ]
  },
  {
   "cell_type": "code",
   "execution_count": 51,
   "metadata": {},
   "outputs": [
    {
     "data": {
      "text/html": [
       "<div>\n",
       "<style scoped>\n",
       "    .dataframe tbody tr th:only-of-type {\n",
       "        vertical-align: middle;\n",
       "    }\n",
       "\n",
       "    .dataframe tbody tr th {\n",
       "        vertical-align: top;\n",
       "    }\n",
       "\n",
       "    .dataframe thead th {\n",
       "        text-align: right;\n",
       "    }\n",
       "</style>\n",
       "<table border=\"1\" class=\"dataframe\">\n",
       "  <thead>\n",
       "    <tr style=\"text-align: right;\">\n",
       "      <th></th>\n",
       "      <th>id</th>\n",
       "      <th>rank</th>\n",
       "      <th>song</th>\n",
       "      <th>artist</th>\n",
       "    </tr>\n",
       "  </thead>\n",
       "  <tbody>\n",
       "    <tr>\n",
       "      <th>0</th>\n",
       "      <td>None</td>\n",
       "      <td>1</td>\n",
       "      <td>Holy</td>\n",
       "      <td>Justin Bieber</td>\n",
       "    </tr>\n",
       "    <tr>\n",
       "      <th>1</th>\n",
       "      <td>None</td>\n",
       "      <td>2</td>\n",
       "      <td>Blinding Lights</td>\n",
       "      <td>The Weeknd</td>\n",
       "    </tr>\n",
       "    <tr>\n",
       "      <th>2</th>\n",
       "      <td>None</td>\n",
       "      <td>3</td>\n",
       "      <td>Circles</td>\n",
       "      <td>Post Malone</td>\n",
       "    </tr>\n",
       "    <tr>\n",
       "      <th>3</th>\n",
       "      <td>None</td>\n",
       "      <td>4</td>\n",
       "      <td>The Box</td>\n",
       "      <td>Roddy Ricch</td>\n",
       "    </tr>\n",
       "    <tr>\n",
       "      <th>4</th>\n",
       "      <td>None</td>\n",
       "      <td>5</td>\n",
       "      <td>Don’t Start Now</td>\n",
       "      <td>Dua Lipa</td>\n",
       "    </tr>\n",
       "  </tbody>\n",
       "</table>\n",
       "</div>"
      ],
      "text/plain": [
       "     id  rank             song          artist\n",
       "0  None     1             Holy   Justin Bieber\n",
       "1  None     2  Blinding Lights      The Weeknd\n",
       "2  None     3          Circles     Post Malone\n",
       "3  None     4          The Box     Roddy Ricch\n",
       "4  None     5  Don’t Start Now        Dua Lipa"
      ]
     },
     "execution_count": 51,
     "metadata": {},
     "output_type": "execute_result"
    }
   ],
   "source": [
    "# Retrieve the parent divs for all articles\n",
    "results = soup.find_all('p', style='margin:0')\n",
    "results\n",
    "\n",
    "final_dataframe = []\n",
    "for result in results:\n",
    "    # scrape the article header \n",
    "    all_info = result.find('span').text\n",
    "    if all_info.split()[0] != 'Copyright':\n",
    "        rank = int(all_info.split('.')[0])\n",
    "        song_singer = all_info.split('.')[1].lstrip()\n",
    "        if (len(song_singer.split('–')) > 1 ):\n",
    "            song = song_singer.split('–')[0].rstrip()\n",
    "            singer = song_singer.split('–')[1]\n",
    "            \n",
    "            post = {\n",
    "                'rank': rank,\n",
    "                'song': song,\n",
    "                'artist': singer,\n",
    "            }\n",
    "            \n",
    "            final_dataframe.append(post)\n",
    "\n",
    "final_df = pd.DataFrame(final_dataframe)\n",
    "\n",
    "engine = create_engine('sqlite:///Country.sqlite')\n",
    "final_df.to_sql(name='Dallas', con=engine, if_exists='append', index=False)\n",
    "pd.read_sql_query('select * from Dallas', con=engine).head()\n"
   ]
  },
  {
   "cell_type": "code",
   "execution_count": null,
   "metadata": {},
   "outputs": [],
   "source": []
  }
 ],
 "metadata": {
  "kernelspec": {
   "display_name": "Python 3 (ipykernel)",
   "language": "python",
   "name": "python3"
  },
  "language_info": {
   "codemirror_mode": {
    "name": "ipython",
    "version": 3
   },
   "file_extension": ".py",
   "mimetype": "text/x-python",
   "name": "python",
   "nbconvert_exporter": "python",
   "pygments_lexer": "ipython3",
   "version": "3.9.7"
  },
  "varInspector": {
   "cols": {
    "lenName": 16,
    "lenType": 16,
    "lenVar": 40
   },
   "kernels_config": {
    "python": {
     "delete_cmd_postfix": "",
     "delete_cmd_prefix": "del ",
     "library": "var_list.py",
     "varRefreshCmd": "print(var_dic_list())"
    },
    "r": {
     "delete_cmd_postfix": ") ",
     "delete_cmd_prefix": "rm(",
     "library": "var_list.r",
     "varRefreshCmd": "cat(var_dic_list()) "
    }
   },
   "types_to_exclude": [
    "module",
    "function",
    "builtin_function_or_method",
    "instance",
    "_Feature"
   ],
   "window_display": false
  }
 },
 "nbformat": 4,
 "nbformat_minor": 2
}
